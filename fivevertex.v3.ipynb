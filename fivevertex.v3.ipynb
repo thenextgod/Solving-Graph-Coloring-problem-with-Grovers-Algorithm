{
 "cells": [
  {
   "cell_type": "code",
   "execution_count": null,
   "id": "a9f95fb8-800f-410a-8af9-dfe8453ec37a",
   "metadata": {},
   "outputs": [],
   "source": [
    "import qiskit\n",
    "import numpy as np\n",
    "from qiskit import QuantumRegister, ClassicalRegister, QuantumCircuit, Aer, execute,transpile, assemble\n",
    "from qiskit.tools.visualization import circuit_drawer\n",
    "from qiskit_aer import AerSimulator\n",
    "from qiskit.circuit import Gate\n",
    "from ibm_quantum_widgets import draw_circuit\n",
    "from qiskit.visualization import plot_histogram\n",
    "from numpy import pi\n",
    "from qiskit.quantum_info import Statevector\n",
    "from qiskit.circuit.library import C3XGate\n",
    "from IPython.display import Latex\n",
    "from qiskit.visualization import state_visualization\n",
    "from qiskit.circuit.library import C3XGate"
   ]
  },
  {
   "cell_type": "code",
   "execution_count": null,
   "id": "47a4c8fc-d133-4445-9ddd-18d347b00fc7",
   "metadata": {},
   "outputs": [],
   "source": [
    "#Code for a general Grover diffuser to amplify the solution states\n",
    "def diffuser(nq):\n",
    "    qb = QuantumCircuit(nq)\n",
    "    # Apply transformation |s> -> |00..0> (H-gates)\n",
    "    for qubit in range(nq):\n",
    "        qb.h(qubit)\n",
    "    # Apply transformation |00..0> -> |11..1> (X-gates)\n",
    "    for qubit in range(nq):\n",
    "        qb.x(qubit)\n",
    "    # Do multi-controlled-Z gate\n",
    "    qb.h(nq-1)\n",
    "    qb.mct(list(range(nq-1)), nq-1)  # multi-controlled-toffoli\n",
    "    qb.h(nq-1)\n",
    "    # Apply transformation |11..1> -> |00..0>\n",
    "    for qubit in range(nq):\n",
    "        qb.x(qubit)\n",
    "    # Apply transformation |00..0> -> |s>\n",
    "    for qubit in range(nq):\n",
    "        qb.h(qubit)\n",
    "    # We will return the diffuser as a gate\n",
    "    U_s = qb.to_gate()\n",
    "    U_s.name = \"Diffuser\"\n",
    "    return U_s"
   ]
  },
  {
   "cell_type": "code",
   "execution_count": null,
   "id": "ae6e6222-4750-4c2e-ba6a-e648484e39eb",
   "metadata": {},
   "outputs": [],
   "source": [
    "#The clauselist contains the restrictions(edges) of the graph which we are considering.\n",
    "clauselist=[[0,1],[0,2],[0,3],[1,2],[1,3],[2,3],[3,4]]\n",
    "\n",
    "#Change this to modify the number of times we iterate through the circuit.\n",
    "#For the graph under consideration, we need 3 iterations\n",
    "iterations=3"
   ]
  },
  {
   "cell_type": "code",
   "execution_count": null,
   "id": "58123427-78f4-427d-a6ce-32b8ef1fc5d2",
   "metadata": {},
   "outputs": [],
   "source": [
    "#Initiating the Quantum Register\n",
    "vertex_qubits = QuantumRegister(10, name='vertex')\n",
    "clause_qubits = QuantumRegister(14, name='clause')\n",
    "secondcheck_qubits = QuantumRegister(5, name='second')\n",
    "thirdcheck_qubits = QuantumRegister(2, name='third')\n",
    "output_qubit = QuantumRegister(1, name='out')\n",
    "cbits = ClassicalRegister(10, name='cbits')\n",
    "circuit = QuantumCircuit(vertex_qubits,clause_qubits,secondcheck_qubits,thirdcheck_qubits,output_qubit,cbits)\n",
    "\n",
    "#Applying Hadamard gates to the 'vertex' qubits. To further simplify the problem, we fix the 3rd node color to '00'.\n",
    "circuit.h([vertex_qubits[0],vertex_qubits[1],vertex_qubits[2],vertex_qubits[3],vertex_qubits[4],vertex_qubits[5],vertex_qubits[8],vertex_qubits[9]])\n",
    "#Initiating the output qubit in |-> state\n",
    "circuit.initialize([1, -1]/np.sqrt(2), output_qubit)\n",
    "#Adding a barrier between the initialization part and the Quantum Oracle\n",
    "circuit.barrier()"
   ]
  },
  {
   "cell_type": "code",
   "execution_count": null,
   "id": "e31a98e0-1ea4-42b6-899e-7a738e5409e9",
   "metadata": {},
   "outputs": [],
   "source": [
    "#Quantum Oracle for the problem \n",
    "for t in range(iterations):\n",
    "    i=0\n",
    "    for clause in clauselist:\n",
    "        #The divider list specifies which vertex qubits are assigned to each vertex in the graph\n",
    "        #For the graph we consider, minimum of 4 colors is needed to fulfil all the clauses\n",
    "        #We assign a color to each binary combination towards the end\n",
    "        divider={0:[0,1],1:[2,3],2:[4,5],3:[6,7],4:[8,9]}\n",
    "        flist=divider[clause[0]]\n",
    "        slist=divider[clause[1]]\n",
    "        #Applying the conditional NOT to check that the qubits in each clause are not in the same state\n",
    "        circuit.cx(vertex_qubits[flist[0]],clause_qubits[i])\n",
    "        circuit.cx(vertex_qubits[slist[0]],clause_qubits[i])\n",
    "        circuit.cx(vertex_qubits[flist[1]],clause_qubits[i+1])\n",
    "        circuit.cx(vertex_qubits[slist[1]],clause_qubits[i+1])\n",
    "        i=i+2\n",
    "    circuit.barrier()\n",
    "    \n",
    "    #In total there is 14 clause qubits and we use a second set of ancilliary qubits to check that they\n",
    "    #are in the desirable state. Then we use another set of qubits to check the conditions of the second set.\n",
    "    circuit.append(C3XGate(), [clause_qubits[0], clause_qubits[1], clause_qubits[2], secondcheck_qubits[0]])\n",
    "    circuit.append(C3XGate(), [clause_qubits[3], clause_qubits[4], clause_qubits[5], secondcheck_qubits[1]])\n",
    "    circuit.append(C3XGate(), [clause_qubits[6], clause_qubits[7], clause_qubits[8], secondcheck_qubits[2]])\n",
    "    circuit.append(C3XGate(), [clause_qubits[9], clause_qubits[10], clause_qubits[11], secondcheck_qubits[3]])\n",
    "    circuit.ccx(clause_qubits[12], clause_qubits[13],secondcheck_qubits[4])\n",
    "    circuit.append(C3XGate(), [secondcheck_qubits[0], secondcheck_qubits[1], secondcheck_qubits[2], thirdcheck_qubits[0]])\n",
    "    circuit.ccx(secondcheck_qubits[3], secondcheck_qubits[4],thirdcheck_qubits[1])\n",
    "    circuit.ccx(thirdcheck_qubits[0], thirdcheck_qubits[1],output_qubit[0])\n",
    "    circuit.barrier()\n",
    "    \n",
    "    #We apply the following gates to 'uncompute' the auxilliary qubits\n",
    "    i=0\n",
    "    for clause in clauselist:\n",
    "        divider={0:[0,1],1:[2,3],2:[4,5],3:[6,7],4:[8,9]}\n",
    "        flist=divider[clause[0]]\n",
    "        slist=divider[clause[1]]\n",
    "        circuit.cx(vertex_qubits[flist[0]],clause_qubits[i])\n",
    "        circuit.cx(vertex_qubits[slist[0]],clause_qubits[i])\n",
    "        circuit.cx(vertex_qubits[flist[1]],clause_qubits[i+1])\n",
    "        circuit.cx(vertex_qubits[slist[1]],clause_qubits[i+1])\n",
    "        i=i+2\n",
    "    circuit.barrier()\n",
    "    \n",
    "    #Finally we apply the Diffuser to amplify the solution states\n",
    "    circuit.append(diffuser(10), [0,1,2,3,4,5,6,7,8,9])\n",
    "    circuit.barrier()\n"
   ]
  },
  {
   "cell_type": "code",
   "execution_count": null,
   "id": "ebc4cce6-d0ac-4ef0-a859-d72b909693b9",
   "metadata": {},
   "outputs": [],
   "source": [
    "#Measuring the vertex Qubits\n",
    "for j in range(10):\n",
    "    circuit.measure(vertex_qubits[j], cbits[j])"
   ]
  },
  {
   "cell_type": "code",
   "execution_count": null,
   "id": "559b1efd-6394-4132-aa55-efabebb67d3d",
   "metadata": {},
   "outputs": [],
   "source": [
    "#Use circuit.draw('mpl') for rendering in matplotlib\n",
    "#circuit.draw()\n"
   ]
  },
  {
   "cell_type": "code",
   "execution_count": null,
   "id": "cb76cd47-f574-4a8e-838b-c014d8deafbb",
   "metadata": {},
   "outputs": [],
   "source": [
    "#We use the matrix product state simulator because the cicuit is large and\n",
    "#all the other simulators need atleast 32GB of ram for the computation\n",
    "#If your system have Nvidia GPU(s), consider installing the cuquantum and\n",
    "#qiskit-aer-gpu packages and use a gpu simulator. It will considerably\n",
    "#reduce the computation time\n",
    "aer_sim = Aer.get_backend('aer_simulator_matrix_product_state')\n",
    "transpiled_qc = transpile(circuit, aer_sim)\n",
    "qobj = assemble(transpiled_qc)\n",
    "result = aer_sim.run(qobj).result()\n",
    "plot_histogram(result.get_counts())\n"
   ]
  },
  {
   "cell_type": "code",
   "execution_count": null,
   "id": "4d4283c2-164b-4966-8939-fe0849b3bac3",
   "metadata": {},
   "outputs": [],
   "source": [
    "#{k: v for k, v in sorted(result.get_counts().items(), key=lambda item: item[1])}"
   ]
  },
  {
   "cell_type": "code",
   "execution_count": null,
   "id": "a8bdfe9d-9649-4dae-8da7-bfd864d3db07",
   "metadata": {},
   "outputs": [],
   "source": [
    "#This code takes the results from the previous computation, take the output states with the \n",
    "#highest number of occurances, convert it to big endian format. After that, using the networkx\n",
    "#package, the required graph is drawn and the colors are assigned to the nodes from the results.\n",
    "newdict={}\n",
    "for k,v in sorted(result.get_counts().items(), key=lambda item: item[1]):\n",
    "    newdict[k]=v\n",
    "import networkx as nx\n",
    "G = nx.Graph()\n",
    "G.add_nodes_from([0,1,2,3,4])\n",
    "G.add_edges_from([(0,1),(0,2),(0,3),(1,2),(1,3),(2,3),(3,4)])\n",
    "colordict={\"00\":\"blue\",\"01\":\"yellow\",\"10\":\"red\",\"11\":\"green\"}\n",
    "\n",
    "numst=list(newdict.keys())[-1]\n",
    "string=str(numst)\n",
    "strrev=string[::-1]\n",
    "print(strrev)\n",
    "ne = 2\n",
    "chunks = [strrev[i:i+2] for i in range(0, len(strrev), ne)]\n",
    "color_map = []\n",
    "for b in chunks:\n",
    "     color_map.append(colordict[b])\n",
    "nx.draw(G, node_color=color_map, with_labels=True)\n",
    "\n",
    "\n"
   ]
  },
  {
   "cell_type": "code",
   "execution_count": null,
   "id": "748148d3-6796-45c6-8180-62e3d093ee51",
   "metadata": {},
   "outputs": [],
   "source": [
    "#This code block draws and assigns the color to the nodes based on the second\n",
    "#most occured state. This code can be avoided and integrated into the previous block\n",
    "#provided we add extra code to override the default IPython output block paramenters.\n",
    "#Add the following code block if that's the format desired.\n",
    "#from IPython.core.interactiveshell import InteractiveShell\n",
    "#InteractiveShell.ast_node_interactivity = \"all\"\n",
    "\n",
    "numst=list(newdict.keys())[-2]\n",
    "string=str(numst)\n",
    "strrev=string[::-1]\n",
    "print(strrev)\n",
    "ne = 2\n",
    "chunks = [strrev[i:i+2] for i in range(0, len(strrev), ne)]\n",
    "color_map = []\n",
    "for b in chunks:\n",
    "     color_map.append(colordict[b])\n",
    "nx.draw(G, node_color=color_map, with_labels=True)\n",
    "\n",
    "\n"
   ]
  },
  {
   "cell_type": "code",
   "execution_count": null,
   "id": "dd33fc9c-4ad4-4b25-9546-15967f930d4b",
   "metadata": {},
   "outputs": [],
   "source": [
    "#Draws the third most common statement from the measurement\n",
    "\n",
    "numst=list(newdict.keys())[-3]\n",
    "string=str(numst)\n",
    "strrev=string[::-1]\n",
    "print(strrev)\n",
    "ne = 2\n",
    "chunks = [strrev[i:i+2] for i in range(0, len(strrev), ne)]\n",
    "color_map = []\n",
    "for b in chunks:\n",
    "     color_map.append(colordict[b])\n",
    "nx.draw(G, node_color=color_map, with_labels=True)\n",
    "\n",
    "\n"
   ]
  },
  {
   "cell_type": "code",
   "execution_count": null,
   "id": "5a36e634-0bee-453a-baad-df7dcea4d81a",
   "metadata": {},
   "outputs": [],
   "source": []
  }
 ],
 "metadata": {
  "kernelspec": {
   "display_name": "Python 3 (ipykernel)",
   "language": "python",
   "name": "python3"
  },
  "language_info": {
   "codemirror_mode": {
    "name": "ipython",
    "version": 3
   },
   "file_extension": ".py",
   "mimetype": "text/x-python",
   "name": "python",
   "nbconvert_exporter": "python",
   "pygments_lexer": "ipython3",
   "version": "3.10.9"
  }
 },
 "nbformat": 4,
 "nbformat_minor": 5
}
